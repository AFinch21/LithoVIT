{
 "cells": [
  {
   "cell_type": "code",
   "execution_count": 8,
   "metadata": {},
   "outputs": [
    {
     "name": "stdout",
     "output_type": "stream",
     "text": [
      "{'status': 'healthy'}\n"
     ]
    }
   ],
   "source": [
    "import requests\n",
    "\n",
    "url = \"http://127.0.0.1:8000/health/\"\n",
    "# query_id = \"12345\"\n",
    "# image_path = \"/path/to/your/image.jpg\"\n",
    "\n",
    "\n",
    "response = requests.get(url)\n",
    "\n",
    "print(response.json())"
   ]
  },
  {
   "cell_type": "code",
   "execution_count": 9,
   "metadata": {},
   "outputs": [
    {
     "name": "stdout",
     "output_type": "stream",
     "text": [
      "{'model_path': 'Andrew-Finch/vit-base-rocks', 'num_labels': 10, 'id2label': {'0': 'Andesite', '1': 'Basalt', '2': 'Chalk', '3': 'Dolomite', '4': 'Flint', '5': 'Gneiss', '6': 'Granite', '7': 'Limestone', '8': 'Sandstone', '9': 'Slate'}, 'label2id': {'Andesite': 0, 'Basalt': 1, 'Chalk': 2, 'Dolomite': 3, 'Flint': 4, 'Gneiss': 5, 'Granite': 6, 'Limestone': 7, 'Sandstone': 8, 'Slate': 9}}\n"
     ]
    }
   ],
   "source": [
    "import requests\n",
    "\n",
    "url = \"http://127.0.0.1:8000/model/\"\n",
    "# query_id = \"12345\"\n",
    "# image_path = \"/path/to/your/image.jpg\"\n",
    "\n",
    "\n",
    "response = requests.get(url)\n",
    "\n",
    "print(response.json())"
   ]
  },
  {
   "cell_type": "code",
   "execution_count": 12,
   "metadata": {},
   "outputs": [
    {
     "name": "stdout",
     "output_type": "stream",
     "text": [
      "Response received: {'query_id': '12345', 'classification': 'Sandstone'}\n"
     ]
    }
   ],
   "source": [
    "import requests\n",
    "\n",
    "# Define the URL and query parameters\n",
    "url = \"http://127.0.0.1:8000/classify/\"\n",
    "query_id = \"12345\"\n",
    "image_path = \"sandstone_1.jpg\"\n",
    "\n",
    "# Define the form data with the query_id\n",
    "form_data = {\n",
    "    'query_id': query_id\n",
    "}\n",
    "\n",
    "# Open the image file in binary mode\n",
    "with open(image_path, \"rb\") as image_file:\n",
    "    # Define the files to be sent with the request\n",
    "    files = {\"image\": (\"image.webp\", image_file, \"image/webp\")}\n",
    "    \n",
    "    # Send the POST request\n",
    "    response = requests.post(url, files=files, data=form_data)\n",
    "\n",
    "# Check the response status\n",
    "if response.status_code == 200:\n",
    "    print(\"Response received:\", response.json())\n",
    "else:\n",
    "    print(\"Failed to classify image, status code:\", response.status_code)\n",
    "    print(\"Response text:\", response.text)"
   ]
  }
 ],
 "metadata": {
  "kernelspec": {
   "display_name": ".venv",
   "language": "python",
   "name": "python3"
  },
  "language_info": {
   "codemirror_mode": {
    "name": "ipython",
    "version": 3
   },
   "file_extension": ".py",
   "mimetype": "text/x-python",
   "name": "python",
   "nbconvert_exporter": "python",
   "pygments_lexer": "ipython3",
   "version": "3.9.6"
  }
 },
 "nbformat": 4,
 "nbformat_minor": 2
}
